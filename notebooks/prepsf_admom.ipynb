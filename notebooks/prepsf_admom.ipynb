{
 "cells": [
  {
   "cell_type": "code",
   "execution_count": 1,
   "id": "583a550c",
   "metadata": {},
   "outputs": [],
   "source": [
    "%load_ext autoreload\n",
    "%autoreload 2"
   ]
  },
  {
   "cell_type": "code",
   "execution_count": 2,
   "id": "b47900c1",
   "metadata": {},
   "outputs": [],
   "source": [
    "import ngmix\n",
    "import numpy as np\n",
    "import galsim"
   ]
  },
  {
   "cell_type": "code",
   "execution_count": 26,
   "id": "68c0757f",
   "metadata": {},
   "outputs": [],
   "source": [
    "from prepsf_admom import PrePSFAdmom\n",
    "from ngmix.prepsfmom import PGaussMom"
   ]
  },
  {
   "cell_type": "code",
   "execution_count": 98,
   "id": "a7ad143f",
   "metadata": {},
   "outputs": [],
   "source": [
    "from ngmix import Jacobian, Observation\n",
    "\n",
    "rng = np.random.RandomState(seed=100)\n",
    "image_size = 101\n",
    "psf_image_size = 53\n",
    "pixel_scale = 0.2\n",
    "snr = 2e1\n",
    "fwhm = 1e-5\n",
    "psf_fwhm = 1\n",
    "mom_fwhm = 2\n",
    "\n",
    "cen = (image_size - 1)/2\n",
    "psf_cen = (psf_image_size - 1)/2\n",
    "gs_wcs = galsim.ShearWCS(\n",
    "    pixel_scale, galsim.Shear(g1=-0.1, g2=0.06)).jacobian()\n",
    "scale = np.sqrt(gs_wcs.pixelArea())\n",
    "shift = rng.uniform(low=-scale/2, high=scale/2, size=2)\n",
    "psf_shift = rng.uniform(low=-scale/2, high=scale/2, size=2)\n",
    "xy = gs_wcs.toImage(galsim.PositionD(shift))\n",
    "psf_xy = gs_wcs.toImage(galsim.PositionD(psf_shift))\n",
    "\n",
    "jac = Jacobian(\n",
    "    y=cen + xy.y, x=cen + xy.x,\n",
    "    dudx=gs_wcs.dudx, dudy=gs_wcs.dudy,\n",
    "    dvdx=gs_wcs.dvdx, dvdy=gs_wcs.dvdy)\n",
    "\n",
    "psf_jac = Jacobian(\n",
    "    y=psf_cen + psf_xy.y, x=psf_cen + psf_xy.x,\n",
    "    dudx=gs_wcs.dudx, dudy=gs_wcs.dudy,\n",
    "    dvdx=gs_wcs.dvdx, dvdy=gs_wcs.dvdy)\n",
    "\n",
    "gal = galsim.Gaussian(\n",
    "    fwhm=fwhm\n",
    ").shear(\n",
    "    e1=-0.1, e2=0.2\n",
    ").withFlux(\n",
    "    400\n",
    ").shift(\n",
    "    dx=shift[0], dy=shift[1]\n",
    ")\n",
    "\n",
    "gal = galsim.Exponential(\n",
    "    half_light_radius=fwhm,\n",
    ").shear(\n",
    "    e1=-0.1, e2=0.2\n",
    ").withFlux(\n",
    "    400\n",
    ").shift(\n",
    "    dx=shift[0], dy=shift[1]\n",
    ")\n",
    "\n",
    "\n",
    "psf = galsim.Gaussian(\n",
    "    fwhm=psf_fwhm\n",
    ").shear(\n",
    "    g1=0.3, g2=-0.15\n",
    ")\n",
    "im = galsim.Convolve([gal, psf]).drawImage(\n",
    "    nx=image_size,\n",
    "    ny=image_size,\n",
    "    wcs=gs_wcs\n",
    ").array\n",
    "noise = np.sqrt(np.sum(im**2)) / snr\n",
    "wgt = np.ones_like(im) / noise**2\n",
    "\n",
    "psf_im = psf.shift(\n",
    "    dx=psf_shift[0], dy=psf_shift[1]\n",
    ").drawImage(\n",
    "    nx=psf_image_size,\n",
    "    ny=psf_image_size,\n",
    "    wcs=gs_wcs\n",
    ").array\n",
    "\n",
    "im_true = gal.drawImage(\n",
    "    nx=image_size,\n",
    "    ny=image_size,\n",
    "    wcs=gs_wcs,\n",
    "    method='no_pixel').array\n",
    "obs_true = Observation(\n",
    "    image=im_true,\n",
    "    jacobian=jac,\n",
    ")\n",
    "\n",
    "obs = Observation(\n",
    "    image=im + rng.normal(size=im.shape, scale=noise),\n",
    "    weight=wgt,\n",
    "    jacobian=jac,\n",
    "    psf=Observation(image=psf_im, jacobian=psf_jac),\n",
    ")"
   ]
  },
  {
   "cell_type": "code",
   "execution_count": 99,
   "id": "6c8724c1",
   "metadata": {
    "scrolled": false
   },
   "outputs": [
    {
     "data": {
      "text/plain": [
       "(17.702765300829302,\n",
       " 17.702765300829302,\n",
       " 'T <= 0',\n",
       " {'flags': 8,\n",
       "  'flagstr': 'T <= 0',\n",
       "  'flux': 433.096182660285,\n",
       "  'mom': array([         nan,          nan, -49.66334165,  25.57519569,\n",
       "         -22.37381732, 433.09618266]),\n",
       "  'mom_cov': array([[   1.        ,    0.        ,    0.        ,    0.        ,\n",
       "             0.        ,    0.        ],\n",
       "         [   0.        ,    1.        ,    0.        ,    0.        ,\n",
       "             0.        ,    0.        ],\n",
       "         [   0.        ,    0.        ,  872.91425126,  -73.40553645,\n",
       "           341.80395948, -171.11304099],\n",
       "         [   0.        ,    0.        ,  -73.40553645,  762.99183988,\n",
       "          -171.08317537,   85.64887457],\n",
       "         [   0.        ,    0.        ,  341.80395948, -171.08317537,\n",
       "           900.78752488,  176.97601242],\n",
       "         [   0.        ,    0.        , -171.11304099,   85.64887457,\n",
       "           176.97601242,  598.53077881]]),\n",
       "  'flux_flags': 0,\n",
       "  'flux_flagstr': '',\n",
       "  'T_flags': 0,\n",
       "  'T_flagstr': '',\n",
       "  'flux_err': 24.46488869397123,\n",
       "  'T': -0.05166015820956001,\n",
       "  'T_err': 0.07005960107370925,\n",
       "  's2n': 17.702765300829302,\n",
       "  'e1': nan,\n",
       "  'e2': nan,\n",
       "  'e': array([nan, nan]),\n",
       "  'e_err': array([nan, nan]),\n",
       "  'e_cov': array([[nan,  0.],\n",
       "         [ 0., nan]]),\n",
       "  'mom_err': array([ 1.        ,  1.        , 29.54512229, 27.62230693, 30.01312254,\n",
       "         24.46488869]),\n",
       "  'numiter': 1})"
      ]
     },
     "execution_count": 99,
     "metadata": {},
     "output_type": "execute_result"
    }
   ],
   "source": [
    "res = PrePSFAdmom(min_fwhm=2.0, delta_fwhm=0.1).go(obs, 3)\n",
    "PGaussMom(fwhm=2).go(obs)[\"s2n\"], res[\"s2n\"], res[\"flagstr\"], res"
   ]
  },
  {
   "cell_type": "code",
   "execution_count": null,
   "id": "2f54d22f",
   "metadata": {},
   "outputs": [],
   "source": []
  }
 ],
 "metadata": {
  "kernelspec": {
   "display_name": "Python [conda env:desy6]",
   "language": "python",
   "name": "conda-env-desy6-py"
  },
  "language_info": {
   "codemirror_mode": {
    "name": "ipython",
    "version": 3
   },
   "file_extension": ".py",
   "mimetype": "text/x-python",
   "name": "python",
   "nbconvert_exporter": "python",
   "pygments_lexer": "ipython3",
   "version": "3.8.12"
  }
 },
 "nbformat": 4,
 "nbformat_minor": 5
}
