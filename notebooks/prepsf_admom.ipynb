{
 "cells": [
  {
   "cell_type": "code",
   "execution_count": 1,
   "id": "583a550c",
   "metadata": {},
   "outputs": [],
   "source": [
    "%load_ext autoreload\n",
    "%autoreload 2"
   ]
  },
  {
   "cell_type": "code",
   "execution_count": 2,
   "id": "b47900c1",
   "metadata": {},
   "outputs": [],
   "source": [
    "import ngmix\n",
    "import numpy as np\n",
    "import galsim"
   ]
  },
  {
   "cell_type": "code",
   "execution_count": 4,
   "id": "68c0757f",
   "metadata": {},
   "outputs": [],
   "source": [
    "from ngmix.adaptive_prepsfmom import PrePSFAdmom\n",
    "from ngmix.prepsfmom import PGaussMom\n",
    "from wldeblend_sim import init_wldeblend, get_gal_wldeblend, make_ngmix_obs"
   ]
  },
  {
   "cell_type": "code",
   "execution_count": 43,
   "id": "31ce9c00",
   "metadata": {},
   "outputs": [
    {
     "name": "stderr",
     "output_type": "stream",
     "text": [
      " 10%|███▉                                   | 100/1000 [00:49<07:22,  2.03it/s]\n"
     ]
    },
    {
     "ename": "KeyboardInterrupt",
     "evalue": "",
     "output_type": "error",
     "traceback": [
      "\u001b[0;31m---------------------------------------------------------------------------\u001b[0m",
      "\u001b[0;31mKeyboardInterrupt\u001b[0m                         Traceback (most recent call last)",
      "\u001b[0;32m/var/folders/5w/65hhf7d16cvbrv_wsj7y1_nm0000gn/T/ipykernel_58289/3193902220.py\u001b[0m in \u001b[0;36m<module>\u001b[0;34m\u001b[0m\n\u001b[1;32m     16\u001b[0m \u001b[0;34m\u001b[0m\u001b[0m\n\u001b[1;32m     17\u001b[0m     \u001b[0mres\u001b[0m \u001b[0;34m=\u001b[0m \u001b[0mPGaussMom\u001b[0m\u001b[0;34m(\u001b[0m\u001b[0map\u001b[0m\u001b[0;34m)\u001b[0m\u001b[0;34m.\u001b[0m\u001b[0mgo\u001b[0m\u001b[0;34m(\u001b[0m\u001b[0mobs\u001b[0m\u001b[0;34m)\u001b[0m\u001b[0;34m\u001b[0m\u001b[0;34m\u001b[0m\u001b[0m\n\u001b[0;32m---> 18\u001b[0;31m     \u001b[0mpres\u001b[0m \u001b[0;34m=\u001b[0m \u001b[0mPrePSFAdmom\u001b[0m\u001b[0;34m(\u001b[0m\u001b[0map\u001b[0m\u001b[0;34m,\u001b[0m \u001b[0mdelta_fwhm\u001b[0m\u001b[0;34m=\u001b[0m\u001b[0;36m0.1\u001b[0m\u001b[0;34m)\u001b[0m\u001b[0;34m.\u001b[0m\u001b[0mgo\u001b[0m\u001b[0;34m(\u001b[0m\u001b[0mobs\u001b[0m\u001b[0;34m)\u001b[0m\u001b[0;34m\u001b[0m\u001b[0;34m\u001b[0m\u001b[0m\n\u001b[0m\u001b[1;32m     19\u001b[0m     \u001b[0ms2n_pg\u001b[0m\u001b[0;34m.\u001b[0m\u001b[0mappend\u001b[0m\u001b[0;34m(\u001b[0m\u001b[0mres\u001b[0m\u001b[0;34m[\u001b[0m\u001b[0;34m\"s2n\"\u001b[0m\u001b[0;34m]\u001b[0m\u001b[0;34m)\u001b[0m\u001b[0;34m\u001b[0m\u001b[0;34m\u001b[0m\u001b[0m\n\u001b[1;32m     20\u001b[0m     \u001b[0ms2n_pam\u001b[0m\u001b[0;34m.\u001b[0m\u001b[0mappend\u001b[0m\u001b[0;34m(\u001b[0m\u001b[0mpres\u001b[0m\u001b[0;34m[\u001b[0m\u001b[0;34m\"s2n\"\u001b[0m\u001b[0;34m]\u001b[0m\u001b[0;34m)\u001b[0m\u001b[0;34m\u001b[0m\u001b[0;34m\u001b[0m\u001b[0m\n",
      "\u001b[0;32m~/Desktop/des_y6_shear/ngmix/ngmix/adaptive_prepsfmom.py\u001b[0m in \u001b[0;36mgo\u001b[0;34m(self, obs, return_kernels, no_psf)\u001b[0m\n\u001b[1;32m    145\u001b[0m         \u001b[0mpsf_obs\u001b[0m \u001b[0;34m=\u001b[0m \u001b[0m_check_obs_and_get_psf_obs\u001b[0m\u001b[0;34m(\u001b[0m\u001b[0mobs\u001b[0m\u001b[0;34m,\u001b[0m \u001b[0mno_psf\u001b[0m\u001b[0;34m)\u001b[0m\u001b[0;34m\u001b[0m\u001b[0;34m\u001b[0m\u001b[0m\n\u001b[1;32m    146\u001b[0m         \u001b[0md\u001b[0m \u001b[0;34m=\u001b[0m \u001b[0mself\u001b[0m\u001b[0;34m.\u001b[0m\u001b[0m_prep_data\u001b[0m\u001b[0;34m(\u001b[0m\u001b[0mobs\u001b[0m\u001b[0;34m,\u001b[0m \u001b[0mpsf_obs\u001b[0m\u001b[0;34m)\u001b[0m\u001b[0;34m\u001b[0m\u001b[0;34m\u001b[0m\u001b[0m\n\u001b[0;32m--> 147\u001b[0;31m         \u001b[0;32mreturn\u001b[0m \u001b[0mself\u001b[0m\u001b[0;34m.\u001b[0m\u001b[0m_run_admom\u001b[0m\u001b[0;34m(\u001b[0m\u001b[0mobs\u001b[0m\u001b[0;34m,\u001b[0m \u001b[0mpsf_obs\u001b[0m\u001b[0;34m,\u001b[0m \u001b[0mreturn_kernels\u001b[0m\u001b[0;34m,\u001b[0m \u001b[0md\u001b[0m\u001b[0;34m)\u001b[0m\u001b[0;34m\u001b[0m\u001b[0;34m\u001b[0m\u001b[0m\n\u001b[0m\u001b[1;32m    148\u001b[0m \u001b[0;34m\u001b[0m\u001b[0m\n\u001b[1;32m    149\u001b[0m     \u001b[0;32mdef\u001b[0m \u001b[0m_run_admom\u001b[0m\u001b[0;34m(\u001b[0m\u001b[0mself\u001b[0m\u001b[0;34m,\u001b[0m \u001b[0mobs\u001b[0m\u001b[0;34m,\u001b[0m \u001b[0mpsf_obs\u001b[0m\u001b[0;34m,\u001b[0m \u001b[0mreturn_kernels\u001b[0m\u001b[0;34m,\u001b[0m \u001b[0md\u001b[0m\u001b[0;34m)\u001b[0m\u001b[0;34m:\u001b[0m\u001b[0;34m\u001b[0m\u001b[0;34m\u001b[0m\u001b[0m\n",
      "\u001b[0;32m~/Desktop/des_y6_shear/ngmix/ngmix/adaptive_prepsfmom.py\u001b[0m in \u001b[0;36m_run_admom\u001b[0;34m(self, obs, psf_obs, return_kernels, d)\u001b[0m\n\u001b[1;32m    170\u001b[0m \u001b[0;34m\u001b[0m\u001b[0m\n\u001b[1;32m    171\u001b[0m         \u001b[0;32mfor\u001b[0m \u001b[0mi\u001b[0m \u001b[0;32min\u001b[0m \u001b[0mrange\u001b[0m\u001b[0;34m(\u001b[0m\u001b[0mself\u001b[0m\u001b[0;34m.\u001b[0m\u001b[0mmaxiter\u001b[0m\u001b[0;34m)\u001b[0m\u001b[0;34m:\u001b[0m\u001b[0;34m\u001b[0m\u001b[0;34m\u001b[0m\u001b[0m\n\u001b[0;32m--> 172\u001b[0;31m             \u001b[0mmom\u001b[0m\u001b[0;34m,\u001b[0m \u001b[0mmom_cov\u001b[0m\u001b[0;34m,\u001b[0m \u001b[0mkernels\u001b[0m \u001b[0;34m=\u001b[0m \u001b[0mself\u001b[0m\u001b[0;34m.\u001b[0m\u001b[0m_meas_mom\u001b[0m\u001b[0;34m(\u001b[0m\u001b[0mwrr\u001b[0m\u001b[0;34m,\u001b[0m \u001b[0mwrc\u001b[0m\u001b[0;34m,\u001b[0m \u001b[0mwcc\u001b[0m\u001b[0;34m,\u001b[0m \u001b[0mobs\u001b[0m\u001b[0;34m,\u001b[0m \u001b[0md\u001b[0m\u001b[0;34m)\u001b[0m\u001b[0;34m\u001b[0m\u001b[0;34m\u001b[0m\u001b[0m\n\u001b[0m\u001b[1;32m    173\u001b[0m \u001b[0;34m\u001b[0m\u001b[0m\n\u001b[1;32m    174\u001b[0m             \u001b[0;32mif\u001b[0m \u001b[0mmom\u001b[0m\u001b[0;34m[\u001b[0m\u001b[0mmf_ind\u001b[0m\u001b[0;34m]\u001b[0m \u001b[0;34m<=\u001b[0m \u001b[0;36m0\u001b[0m\u001b[0;34m:\u001b[0m\u001b[0;34m\u001b[0m\u001b[0;34m\u001b[0m\u001b[0m\n",
      "\u001b[0;32m~/Desktop/des_y6_shear/ngmix/ngmix/adaptive_prepsfmom.py\u001b[0m in \u001b[0;36m_meas_mom\u001b[0;34m(self, wrr, wrc, wcc, obs, d)\u001b[0m\n\u001b[1;32m    245\u001b[0m         \u001b[0;31m# now build the kernels\u001b[0m\u001b[0;34m\u001b[0m\u001b[0;34m\u001b[0m\u001b[0;34m\u001b[0m\u001b[0m\n\u001b[1;32m    246\u001b[0m         \u001b[0me1\u001b[0m\u001b[0;34m,\u001b[0m \u001b[0me2\u001b[0m\u001b[0;34m,\u001b[0m \u001b[0mfwhm\u001b[0m \u001b[0;34m=\u001b[0m \u001b[0m_mom2e1e2fwhm\u001b[0m\u001b[0;34m(\u001b[0m\u001b[0mwrr\u001b[0m\u001b[0;34m,\u001b[0m \u001b[0mwrc\u001b[0m\u001b[0;34m,\u001b[0m \u001b[0mwcc\u001b[0m\u001b[0;34m)\u001b[0m\u001b[0;34m\u001b[0m\u001b[0;34m\u001b[0m\u001b[0m\n\u001b[0;32m--> 247\u001b[0;31m         kernels = _gauss_shape_kernels(\n\u001b[0m\u001b[1;32m    248\u001b[0m             \u001b[0md\u001b[0m\u001b[0;34m[\u001b[0m\u001b[0;34m\"target_dim\"\u001b[0m\u001b[0;34m]\u001b[0m\u001b[0;34m,\u001b[0m\u001b[0;34m\u001b[0m\u001b[0;34m\u001b[0m\u001b[0m\n\u001b[1;32m    249\u001b[0m             \u001b[0mfwhm\u001b[0m\u001b[0;34m,\u001b[0m\u001b[0;34m\u001b[0m\u001b[0;34m\u001b[0m\u001b[0m\n",
      "\u001b[0;32m~/Desktop/des_y6_shear/ngmix/ngmix/adaptive_prepsfmom.py\u001b[0m in \u001b[0;36m_gauss_shape_kernels\u001b[0;34m(dim, kernel_size, e1, e2, dvdrow, dvdcol, dudrow, dudcol)\u001b[0m\n\u001b[1;32m    347\u001b[0m     \u001b[0mfx\u001b[0m \u001b[0;34m=\u001b[0m \u001b[0mf\u001b[0m\u001b[0;34m.\u001b[0m\u001b[0mreshape\u001b[0m\u001b[0;34m(\u001b[0m\u001b[0;36m1\u001b[0m\u001b[0;34m,\u001b[0m \u001b[0;34m-\u001b[0m\u001b[0;36m1\u001b[0m\u001b[0;34m)\u001b[0m\u001b[0;34m\u001b[0m\u001b[0;34m\u001b[0m\u001b[0m\n\u001b[1;32m    348\u001b[0m     \u001b[0mfy\u001b[0m \u001b[0;34m=\u001b[0m \u001b[0mf\u001b[0m\u001b[0;34m.\u001b[0m\u001b[0mreshape\u001b[0m\u001b[0;34m(\u001b[0m\u001b[0;34m-\u001b[0m\u001b[0;36m1\u001b[0m\u001b[0;34m,\u001b[0m \u001b[0;36m1\u001b[0m\u001b[0;34m)\u001b[0m\u001b[0;34m\u001b[0m\u001b[0;34m\u001b[0m\u001b[0m\n\u001b[0;32m--> 349\u001b[0;31m     \u001b[0mAtinv\u001b[0m \u001b[0;34m=\u001b[0m \u001b[0mnp\u001b[0m\u001b[0;34m.\u001b[0m\u001b[0mlinalg\u001b[0m\u001b[0;34m.\u001b[0m\u001b[0minv\u001b[0m\u001b[0;34m(\u001b[0m\u001b[0;34m[\u001b[0m\u001b[0;34m[\u001b[0m\u001b[0mdvdrow\u001b[0m\u001b[0;34m,\u001b[0m \u001b[0mdvdcol\u001b[0m\u001b[0;34m]\u001b[0m\u001b[0;34m,\u001b[0m \u001b[0;34m[\u001b[0m\u001b[0mdudrow\u001b[0m\u001b[0;34m,\u001b[0m \u001b[0mdudcol\u001b[0m\u001b[0;34m]\u001b[0m\u001b[0;34m]\u001b[0m\u001b[0;34m)\u001b[0m\u001b[0;34m.\u001b[0m\u001b[0mT\u001b[0m\u001b[0;34m\u001b[0m\u001b[0;34m\u001b[0m\u001b[0m\n\u001b[0m\u001b[1;32m    350\u001b[0m     \u001b[0mfv\u001b[0m \u001b[0;34m=\u001b[0m \u001b[0mAtinv\u001b[0m\u001b[0;34m[\u001b[0m\u001b[0;36m0\u001b[0m\u001b[0;34m,\u001b[0m \u001b[0;36m0\u001b[0m\u001b[0;34m]\u001b[0m \u001b[0;34m*\u001b[0m \u001b[0mfy\u001b[0m \u001b[0;34m+\u001b[0m \u001b[0mAtinv\u001b[0m\u001b[0;34m[\u001b[0m\u001b[0;36m0\u001b[0m\u001b[0;34m,\u001b[0m \u001b[0;36m1\u001b[0m\u001b[0;34m]\u001b[0m \u001b[0;34m*\u001b[0m \u001b[0mfx\u001b[0m\u001b[0;34m\u001b[0m\u001b[0;34m\u001b[0m\u001b[0m\n\u001b[1;32m    351\u001b[0m     \u001b[0mfu\u001b[0m \u001b[0;34m=\u001b[0m \u001b[0mAtinv\u001b[0m\u001b[0;34m[\u001b[0m\u001b[0;36m1\u001b[0m\u001b[0;34m,\u001b[0m \u001b[0;36m0\u001b[0m\u001b[0;34m]\u001b[0m \u001b[0;34m*\u001b[0m \u001b[0mfy\u001b[0m \u001b[0;34m+\u001b[0m \u001b[0mAtinv\u001b[0m\u001b[0;34m[\u001b[0m\u001b[0;36m1\u001b[0m\u001b[0;34m,\u001b[0m \u001b[0;36m1\u001b[0m\u001b[0;34m]\u001b[0m \u001b[0;34m*\u001b[0m \u001b[0mfx\u001b[0m\u001b[0;34m\u001b[0m\u001b[0;34m\u001b[0m\u001b[0m\n",
      "\u001b[0;32m<__array_function__ internals>\u001b[0m in \u001b[0;36minv\u001b[0;34m(*args, **kwargs)\u001b[0m\n",
      "\u001b[0;32m~/miniconda3/envs/desy6/lib/python3.8/site-packages/numpy/linalg/linalg.py\u001b[0m in \u001b[0;36minv\u001b[0;34m(a)\u001b[0m\n\u001b[1;32m    543\u001b[0m     \u001b[0msignature\u001b[0m \u001b[0;34m=\u001b[0m \u001b[0;34m'D->D'\u001b[0m \u001b[0;32mif\u001b[0m \u001b[0misComplexType\u001b[0m\u001b[0;34m(\u001b[0m\u001b[0mt\u001b[0m\u001b[0;34m)\u001b[0m \u001b[0;32melse\u001b[0m \u001b[0;34m'd->d'\u001b[0m\u001b[0;34m\u001b[0m\u001b[0;34m\u001b[0m\u001b[0m\n\u001b[1;32m    544\u001b[0m     \u001b[0mextobj\u001b[0m \u001b[0;34m=\u001b[0m \u001b[0mget_linalg_error_extobj\u001b[0m\u001b[0;34m(\u001b[0m\u001b[0m_raise_linalgerror_singular\u001b[0m\u001b[0;34m)\u001b[0m\u001b[0;34m\u001b[0m\u001b[0;34m\u001b[0m\u001b[0m\n\u001b[0;32m--> 545\u001b[0;31m     \u001b[0mainv\u001b[0m \u001b[0;34m=\u001b[0m \u001b[0m_umath_linalg\u001b[0m\u001b[0;34m.\u001b[0m\u001b[0minv\u001b[0m\u001b[0;34m(\u001b[0m\u001b[0ma\u001b[0m\u001b[0;34m,\u001b[0m \u001b[0msignature\u001b[0m\u001b[0;34m=\u001b[0m\u001b[0msignature\u001b[0m\u001b[0;34m,\u001b[0m \u001b[0mextobj\u001b[0m\u001b[0;34m=\u001b[0m\u001b[0mextobj\u001b[0m\u001b[0;34m)\u001b[0m\u001b[0;34m\u001b[0m\u001b[0;34m\u001b[0m\u001b[0m\n\u001b[0m\u001b[1;32m    546\u001b[0m     \u001b[0;32mreturn\u001b[0m \u001b[0mwrap\u001b[0m\u001b[0;34m(\u001b[0m\u001b[0mainv\u001b[0m\u001b[0;34m.\u001b[0m\u001b[0mastype\u001b[0m\u001b[0;34m(\u001b[0m\u001b[0mresult_t\u001b[0m\u001b[0;34m,\u001b[0m \u001b[0mcopy\u001b[0m\u001b[0;34m=\u001b[0m\u001b[0;32mFalse\u001b[0m\u001b[0;34m)\u001b[0m\u001b[0;34m)\u001b[0m\u001b[0;34m\u001b[0m\u001b[0;34m\u001b[0m\u001b[0m\n\u001b[1;32m    547\u001b[0m \u001b[0;34m\u001b[0m\u001b[0m\n",
      "\u001b[0;31mKeyboardInterrupt\u001b[0m: "
     ]
    }
   ],
   "source": [
    "import tqdm\n",
    "\n",
    "wldeblend_data = init_wldeblend(survey_bands=\"lsst-r\")\n",
    "\n",
    "rng = np.random.RandomState()\n",
    "ap = 2\n",
    "\n",
    "s2n_true = []\n",
    "s2n_pg = []\n",
    "s2n_pam = []\n",
    "for _ in tqdm.trange(1000, ncols=79):\n",
    "    gal, psf, redshift = get_gal_wldeblend(rng=rng, data=wldeblend_data)\n",
    "    obs, true_flux, obs_nn = make_ngmix_obs(\n",
    "        gal=gal, psf=psf, nse=wldeblend_data.noise, pixel_scale=wldeblend_data.pixel_scale, rng=rng,\n",
    "    )\n",
    "    \n",
    "    res = PGaussMom(ap).go(obs)\n",
    "    pres = PrePSFAdmom(ap, delta_fwhm=0.1).go(obs)\n",
    "    s2n_pg.append(res[\"s2n\"])\n",
    "    s2n_pam.append(pres[\"s2n\"])\n",
    "    s2n_true.append(obs.get_s2n())"
   ]
  },
  {
   "cell_type": "code",
   "execution_count": 44,
   "id": "cf0ca178",
   "metadata": {},
   "outputs": [],
   "source": [
    "s2n_pg = np.array(s2n_pg)\n",
    "s2n_pam = np.array(s2n_pam)\n",
    "s2n_true = np.array(s2n_true)\n",
    "\n",
    "inds = np.argsort(s2n_true)\n",
    "s2n_pg = s2n_pg[inds]\n",
    "s2n_pam = s2n_pam[inds]\n",
    "s2n_true = s2n_true[inds]"
   ]
  },
  {
   "cell_type": "code",
   "execution_count": 45,
   "id": "8fc25abd",
   "metadata": {},
   "outputs": [
    {
     "data": {
      "text/plain": [
       "(0.8, 1.2)"
      ]
     },
     "execution_count": 45,
     "metadata": {},
     "output_type": "execute_result"
    },
    {
     "data": {
      "image/png": "[encoded data removed]",
      "text/plain": [
       "Figure(nrows=1, ncols=1, refwidth=2.5)"
      ]
     },
     "metadata": {
      "image/png": {
       "height": 287,
       "width": 295
      }
     },
     "output_type": "display_data"
    }
   ],
   "source": [
    "import proplot as pplt\n",
    "\n",
    "fig, axs = pplt.subplots()\n",
    "\n",
    "axs.semilogx(s2n_true, s2n_pam/s2n_pg, '.')\n",
    "axs.set_ylim(0.8, 1.2)"
   ]
  },
  {
   "cell_type": "code",
   "execution_count": null,
   "id": "048c9cbc",
   "metadata": {},
   "outputs": [],
   "source": []
  },
  {
   "cell_type": "code",
   "execution_count": null,
   "id": "c60fc742",
   "metadata": {},
   "outputs": [],
   "source": []
  },
  {
   "cell_type": "code",
   "execution_count": null,
   "id": "bae4b10f",
   "metadata": {},
   "outputs": [],
   "source": []
  },
  {
   "cell_type": "code",
   "execution_count": null,
   "id": "5c48e9bc",
   "metadata": {},
   "outputs": [],
   "source": []
  },
  {
   "cell_type": "code",
   "execution_count": null,
   "id": "35683524",
   "metadata": {},
   "outputs": [],
   "source": []
  },
  {
   "cell_type": "code",
   "execution_count": null,
   "id": "c32e0720",
   "metadata": {},
   "outputs": [],
   "source": []
  },
  {
   "cell_type": "code",
   "execution_count": null,
   "id": "86125fc4",
   "metadata": {},
   "outputs": [],
   "source": []
  },
  {
   "cell_type": "code",
   "execution_count": null,
   "id": "924349dc",
   "metadata": {},
   "outputs": [],
   "source": []
  },
  {
   "cell_type": "code",
   "execution_count": null,
   "id": "87f5f6ba",
   "metadata": {},
   "outputs": [],
   "source": []
  },
  {
   "cell_type": "code",
   "execution_count": 96,
   "id": "a7ad143f",
   "metadata": {},
   "outputs": [],
   "source": [
    "from ngmix import Jacobian, Observation\n",
    "\n",
    "rng = np.random.RandomState()\n",
    "image_size = 101\n",
    "psf_image_size = 53\n",
    "pixel_scale = 0.2\n",
    "snr = 2e1\n",
    "fwhm = 0.5\n",
    "psf_fwhm = 0.9\n",
    "\n",
    "cen = (image_size - 1)/2\n",
    "psf_cen = (psf_image_size - 1)/2\n",
    "gs_wcs = galsim.ShearWCS(\n",
    "    pixel_scale, galsim.Shear(g1=-0.1, g2=0.06)).jacobian()\n",
    "scale = np.sqrt(gs_wcs.pixelArea())\n",
    "shift = rng.uniform(low=-scale/2, high=scale/2, size=2)\n",
    "psf_shift = rng.uniform(low=-scale/2, high=scale/2, size=2)\n",
    "xy = gs_wcs.toImage(galsim.PositionD(shift))\n",
    "psf_xy = gs_wcs.toImage(galsim.PositionD(psf_shift))\n",
    "\n",
    "jac = Jacobian(\n",
    "    y=cen + xy.y, x=cen + xy.x,\n",
    "    dudx=gs_wcs.dudx, dudy=gs_wcs.dudy,\n",
    "    dvdx=gs_wcs.dvdx, dvdy=gs_wcs.dvdy)\n",
    "\n",
    "psf_jac = Jacobian(\n",
    "    y=psf_cen + psf_xy.y, x=psf_cen + psf_xy.x,\n",
    "    dudx=gs_wcs.dudx, dudy=gs_wcs.dudy,\n",
    "    dvdx=gs_wcs.dvdx, dvdy=gs_wcs.dvdy)\n",
    "\n",
    "gal = galsim.Gaussian(\n",
    "    fwhm=fwhm\n",
    ").shear(\n",
    "    e1=-0.1, e2=0.2\n",
    ").withFlux(\n",
    "    400\n",
    ").shift(\n",
    "    dx=shift[0], dy=shift[1]\n",
    ")\n",
    "\n",
    "gal = galsim.Exponential(\n",
    "    half_light_radius=fwhm,\n",
    ").shear(\n",
    "    e1=-0.1, e2=0.2\n",
    ").withFlux(\n",
    "    400\n",
    ").shift(\n",
    "    dx=shift[0], dy=shift[1]\n",
    ")\n",
    "\n",
    "\n",
    "psf = galsim.Gaussian(\n",
    "    fwhm=psf_fwhm\n",
    ").shear(\n",
    "    g1=0.3, g2=-0.15\n",
    ")\n",
    "im = galsim.Convolve([gal, psf]).drawImage(\n",
    "    nx=image_size,\n",
    "    ny=image_size,\n",
    "    wcs=gs_wcs\n",
    ").array\n",
    "noise = np.sqrt(np.sum(im**2)) / snr\n",
    "wgt = np.ones_like(im) / noise**2\n",
    "\n",
    "psf_im = psf.shift(\n",
    "    dx=psf_shift[0], dy=psf_shift[1]\n",
    ").drawImage(\n",
    "    nx=psf_image_size,\n",
    "    ny=psf_image_size,\n",
    "    wcs=gs_wcs\n",
    ").array\n",
    "\n",
    "im_true = gal.drawImage(\n",
    "    nx=image_size,\n",
    "    ny=image_size,\n",
    "    wcs=gs_wcs,\n",
    "    method='no_pixel').array\n",
    "obs_true = Observation(\n",
    "    image=im_true,\n",
    "    jacobian=jac,\n",
    ")\n",
    "\n",
    "obs = Observation(\n",
    "    image=im + rng.normal(size=im.shape, scale=noise),\n",
    "    weight=wgt,\n",
    "    jacobian=jac,\n",
    "    psf=Observation(image=psf_im, jacobian=psf_jac),\n",
    ")"
   ]
  },
  {
   "cell_type": "code",
   "execution_count": 97,
   "id": "6c8724c1",
   "metadata": {
    "scrolled": false
   },
   "outputs": [
    {
     "name": "stdout",
     "output_type": "stream",
     "text": [
      "pgauss s/n:    18.996904518020905\n",
      "am pgauss s/n: 4.175089621891306\n",
      "flags:\n",
      "    0\n",
      "    8\n",
      "flagstr:\n",
      "    ''\n",
      "    'T <= 0'\n",
      "flux:\n",
      "    299.3233395647707\n",
      "    330.61904722547683\n",
      "mom:\n",
      "    array([         nan,          nan, -24.60882039,  45.86455316,\n",
      "        77.97884559, 299.32333956])\n",
      "    array([           nan,            nan, -1429.8371303 ,   960.83821243,\n",
      "       -1607.12120011,   330.61904723])\n",
      "mom_cov:\n",
      "    array([[  1.        ,   0.        ,   0.        ,   0.        ,\n",
      "          0.        ,   0.        ],\n",
      "       [  0.        ,   1.        ,   0.        ,   0.        ,\n",
      "          0.        ,   0.        ],\n",
      "       [  0.        ,   0.        , 272.25729355, -13.32836259,\n",
      "         75.47711287, -46.93855394],\n",
      "       [  0.        ,   0.        , -13.32836259, 252.30574421,\n",
      "        -37.78818727,  23.50065699],\n",
      "       [  0.        ,   0.        ,  75.47711287, -37.78818727,\n",
      "        312.83854327, 105.70721841],\n",
      "       [  0.        ,   0.        , -46.93855394,  23.50065699,\n",
      "        105.70721841, 248.2649923 ]])\n",
      "    array([[1.00000000e+00, 0.00000000e+00, 0.00000000e+00, 0.00000000e+00,\n",
      "        0.00000000e+00, 0.00000000e+00],\n",
      "       [0.00000000e+00, 1.00000000e+00, 0.00000000e+00, 0.00000000e+00,\n",
      "        0.00000000e+00, 0.00000000e+00],\n",
      "       [0.00000000e+00, 0.00000000e+00, 4.01815086e+06, 3.89484259e+04,\n",
      "        8.41964801e+05, 1.03376725e+04],\n",
      "       [0.00000000e+00, 0.00000000e+00, 3.89484259e+04, 3.98369205e+06,\n",
      "        5.49138832e+05, 7.71995254e+03],\n",
      "       [0.00000000e+00, 0.00000000e+00, 8.41964801e+05, 5.49138832e+05,\n",
      "        7.88653023e+06, 1.55770023e+05],\n",
      "       [0.00000000e+00, 0.00000000e+00, 1.03376725e+04, 7.71995254e+03,\n",
      "        1.55770023e+05, 6.27081712e+03]])\n",
      "flux_flags:\n",
      "    0\n",
      "    0\n",
      "flux_flagstr:\n",
      "    ''\n",
      "    ''\n",
      "T_flags:\n",
      "    0\n",
      "    0\n",
      "T_flagstr:\n",
      "    ''\n",
      "    ''\n",
      "flux_err:\n",
      "    15.75642701582385\n",
      "    79.18849106661982\n",
      "T:\n",
      "    0.2605170906608689\n",
      "    -4.860945591594633\n",
      "T_err:\n",
      "    0.05536284329297624\n",
      "    9.346584247703335\n",
      "s2n:\n",
      "    18.996904518020905\n",
      "    4.175089621891306\n",
      "e1:\n",
      "    -0.3155832868104071\n",
      "    nan\n",
      "e2:\n",
      "    0.5881666086664188\n",
      "    nan\n",
      "e:\n",
      "    array([-0.31558329,  0.58816661])\n",
      "    array([nan, nan])\n",
      "e_err:\n",
      "    array([0.24027532, 0.25807165])\n",
      "    array([nan, nan])\n",
      "e_cov:\n",
      "    array([[0.05773223, 0.        ],\n",
      "       [0.        , 0.06660098]])\n",
      "    array([[nan,  0.],\n",
      "       [ 0., nan]])\n",
      "mom_err:\n",
      "    array([ 1.        ,  1.        , 16.50022102, 15.88413498, 17.68724239,\n",
      "       15.75642702])\n",
      "    array([1.00000000e+00, 1.00000000e+00, 2.00453258e+03, 1.99591885e+03,\n",
      "       2.80829668e+03, 7.91884911e+01])\n"
     ]
    }
   ],
   "source": [
    "import pprint\n",
    "\n",
    "mom_fwhm = 2\n",
    "\n",
    "res = PrePSFAdmom(min_fwhm=mom_fwhm, delta_fwhm=1).go(obs)\n",
    "pres = PGaussMom(fwhm=mom_fwhm).go(obs)\n",
    "print(\"pgauss s/n:   \", pres[\"s2n\"])\n",
    "print(\"am pgauss s/n:\", res[\"s2n\"])\n",
    "for key in pres.keys():\n",
    "    if key in res:\n",
    "        print(\"%s:\\n    %s\\n    %s\" % (key, pprint.pformat(pres[key]), pprint.pformat(res[key])))"
   ]
  },
  {
   "cell_type": "code",
   "execution_count": null,
   "id": "2f54d22f",
   "metadata": {},
   "outputs": [],
   "source": []
  },
  {
   "cell_type": "code",
   "execution_count": null,
   "id": "2c3f9b99",
   "metadata": {},
   "outputs": [],
   "source": []
  }
 ],
 "metadata": {
  "kernelspec": {
   "display_name": "Python [conda env:desy6]",
   "language": "python",
   "name": "conda-env-desy6-py"
  },
  "language_info": {
   "codemirror_mode": {
    "name": "ipython",
    "version": 3
   },
   "file_extension": ".py",
   "mimetype": "text/x-python",
   "name": "python",
   "nbconvert_exporter": "python",
   "pygments_lexer": "ipython3",
   "version": "3.8.12"
  }
 },
 "nbformat": 4,
 "nbformat_minor": 5
}
